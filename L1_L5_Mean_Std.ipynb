{
  "nbformat": 4,
  "nbformat_minor": 0,
  "metadata": {
    "colab": {
      "provenance": []
    },
    "kernelspec": {
      "name": "python3",
      "display_name": "Python 3"
    },
    "language_info": {
      "name": "python"
    }
  },
  "cells": [
    {
      "cell_type": "code",
      "execution_count": null,
      "metadata": {
        "colab": {
          "base_uri": "https://localhost:8080/"
        },
        "id": "YfboZTKlKUHI",
        "outputId": "e3f0498e-9de7-40fd-a220-78796521555d"
      },
      "outputs": [
        {
          "output_type": "stream",
          "name": "stdout",
          "text": [
            "Drive already mounted at /content/drive; to attempt to forcibly remount, call drive.mount(\"/content/drive\", force_remount=True).\n",
            "LA_IoU_final mean\n",
            "L1의 평균: 0.8411581340543569, 표준편차: 0.24241273594055135\n",
            "L2의 평균: 0.8498499361616906, 표준편차: 0.2234688929784792\n",
            "L3의 평균: 0.8771970019957372, 표준편차: 0.2059185445256911\n",
            "L4의 평균: 0.9110064928786304, 표준편차: 0.1122079799587698\n",
            "L5의 평균: 0.8973155310366584, 표준편차: 0.17148180238993446\n"
          ]
        }
      ],
      "source": [
        "from google.colab import drive\n",
        "drive.mount('/content/drive')\n",
        "\n",
        "import pandas as pd\n",
        "\n",
        "path = '/content/drive/MyDrive/LA_IoU_final.csv'\n",
        "df = pd.read_csv(path)\n",
        "\n",
        "print('LA_IoU_final mean')\n",
        "columns = ['L1', 'L2', 'L3', 'L4', 'L5']\n",
        "for col in columns:\n",
        "  mean_val = df[col].mean()\n",
        "  std_val = df[col].std()\n",
        "  print(f'{col}의 평균: {mean_val}, 표준편차: {std_val}')\n"
      ]
    },
    {
      "cell_type": "code",
      "source": [
        "path2 = '/content/drive/MyDrive/IOU_YOLO+RCNN/iou_YOLO_ap.csv'\n",
        "df2 = pd.read_csv(path2)\n",
        "\n",
        "print('IoU_YOLO+RCNN mean')\n",
        "columns = ['L1', 'L2', 'L3', 'L4', 'L5']\n",
        "for col in columns:\n",
        "  mean_val = df2[col].mean()\n",
        "  std_val = df2[col].std()\n",
        "  print(f'{col}의 평균: {mean_val}, 표준편차: {std_val}')\n"
      ],
      "metadata": {
        "colab": {
          "base_uri": "https://localhost:8080/"
        },
        "id": "K4jOyqNtMCtb",
        "outputId": "ac7a7729-1b13-4b60-84b3-84fb98e4fe45"
      },
      "execution_count": null,
      "outputs": [
        {
          "output_type": "stream",
          "name": "stdout",
          "text": [
            "IoU_YOLO+RCNN mean\n",
            "L1의 평균: 0.7564343748836887, 표준편차: 0.1970198796709605\n",
            "L2의 평균: 0.7549617380610215, 표준편차: 0.18783862990242017\n",
            "L3의 평균: 0.7559937359852895, 표준편차: 0.19645064949908983\n",
            "L4의 평균: 0.7456076117446744, 표준편차: 0.19178814833983776\n",
            "L5의 평균: 0.7378481060252212, 표준편차: 0.17174128104198405\n"
          ]
        }
      ]
    }
  ]
}